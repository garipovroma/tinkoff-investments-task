{
 "cells": [
  {
   "cell_type": "code",
   "execution_count": 1,
   "metadata": {},
   "outputs": [
    {
     "data": {
      "text/html": [
       "<div>\n",
       "<style scoped>\n",
       "    .dataframe tbody tr th:only-of-type {\n",
       "        vertical-align: middle;\n",
       "    }\n",
       "\n",
       "    .dataframe tbody tr th {\n",
       "        vertical-align: top;\n",
       "    }\n",
       "\n",
       "    .dataframe thead th {\n",
       "        text-align: right;\n",
       "    }\n",
       "</style>\n",
       "<table border=\"1\" class=\"dataframe\">\n",
       "  <thead>\n",
       "    <tr style=\"text-align: right;\">\n",
       "      <th></th>\n",
       "      <th>Unnamed: 0</th>\n",
       "      <th>date</th>\n",
       "      <th>time</th>\n",
       "      <th>price</th>\n",
       "    </tr>\n",
       "  </thead>\n",
       "  <tbody>\n",
       "    <tr>\n",
       "      <th>0</th>\n",
       "      <td>0</td>\n",
       "      <td>20150105</td>\n",
       "      <td>100100</td>\n",
       "      <td>1064.0</td>\n",
       "    </tr>\n",
       "    <tr>\n",
       "      <th>1</th>\n",
       "      <td>1</td>\n",
       "      <td>20150105</td>\n",
       "      <td>100200</td>\n",
       "      <td>1064.0</td>\n",
       "    </tr>\n",
       "    <tr>\n",
       "      <th>2</th>\n",
       "      <td>2</td>\n",
       "      <td>20150105</td>\n",
       "      <td>100300</td>\n",
       "      <td>1064.0</td>\n",
       "    </tr>\n",
       "    <tr>\n",
       "      <th>3</th>\n",
       "      <td>3</td>\n",
       "      <td>20150105</td>\n",
       "      <td>100400</td>\n",
       "      <td>1064.0</td>\n",
       "    </tr>\n",
       "    <tr>\n",
       "      <th>4</th>\n",
       "      <td>4</td>\n",
       "      <td>20150105</td>\n",
       "      <td>100500</td>\n",
       "      <td>1064.0</td>\n",
       "    </tr>\n",
       "  </tbody>\n",
       "</table>\n",
       "</div>"
      ],
      "text/plain": [
       "   Unnamed: 0      date    time   price\n",
       "0           0  20150105  100100  1064.0\n",
       "1           1  20150105  100200  1064.0\n",
       "2           2  20150105  100300  1064.0\n",
       "3           3  20150105  100400  1064.0\n",
       "4           4  20150105  100500  1064.0"
      ]
     },
     "execution_count": 1,
     "metadata": {},
     "output_type": "execute_result"
    }
   ],
   "source": [
    "import numpy as np\n",
    "import pandas as pd\n",
    "import matplotlib.pyplot as plt\n",
    "%matplotlib inline\n",
    "\n",
    "data = pd.read_csv('data.csv') \n",
    "data.sort_values(by=['date', 'time'], inplace=True)\n",
    "data.head()"
   ]
  },
  {
   "cell_type": "code",
   "execution_count": 2,
   "metadata": {},
   "outputs": [
    {
     "data": {
      "text/plain": [
       "<AxesSubplot:>"
      ]
     },
     "execution_count": 2,
     "metadata": {},
     "output_type": "execute_result"
    },
    {
     "data": {
      "image/png": "[encoded data removed]",
      "text/plain": [
       "<Figure size 432x288 with 1 Axes>"
      ]
     },
     "metadata": {
      "needs_background": "light"
     },
     "output_type": "display_data"
    }
   ],
   "source": [
    "data.plot(y=\"price\")"
   ]
  },
  {
   "cell_type": "code",
   "execution_count": 3,
   "metadata": {},
   "outputs": [
    {
     "name": "stdout",
     "output_type": "stream",
     "text": [
      "Buy at:\n",
      "date     20150929.0\n",
      "time       110200.0\n",
      "price         687.0\n",
      "Name: 96149, dtype: float64 \n",
      "\n",
      "Sell at:\n",
      "date     20160728.0\n",
      "time       163400.0\n",
      "price        1543.0\n",
      "Name: 204559, dtype: float64 \n",
      "\n",
      "profit =  856.0\n"
     ]
    }
   ],
   "source": [
    "min_on_prefix = data['price'][0]\n",
    "min_id = 0\n",
    "ans = -10**9\n",
    "buy_id = -1\n",
    "sell_id = -1\n",
    "for index, value in enumerate(data['price']):\n",
    "    cur = value - min_on_prefix\n",
    "    if cur > ans:\n",
    "        buy_id = min_id\n",
    "        sell_id = index\n",
    "        ans = cur\n",
    "    if min_on_prefix > value:\n",
    "        min_on_prefix = value\n",
    "        min_id = index\n",
    "print(\"Buy at:\")\n",
    "print(data.iloc[buy_id][['date', 'time', 'price']], \"\\n\")\n",
    "print(\"Sell at:\")\n",
    "print(data.iloc[sell_id][['date', 'time', 'price']], \"\\n\")\n",
    "print(\"profit = \", ans)"
   ]
  }
 ],
 "metadata": {
  "kernelspec": {
   "display_name": "Python 3",
   "language": "python",
   "name": "python3"
  },
  "language_info": {
   "codemirror_mode": {
    "name": "ipython",
    "version": 3
   },
   "file_extension": ".py",
   "mimetype": "text/x-python",
   "name": "python",
   "nbconvert_exporter": "python",
   "pygments_lexer": "ipython3",
   "version": "3.8.5"
  }
 },
 "nbformat": 4,
 "nbformat_minor": 4
}
